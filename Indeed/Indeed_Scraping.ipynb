{
 "cells": [
  {
   "cell_type": "code",
   "execution_count": 1,
   "id": "a9646369",
   "metadata": {},
   "outputs": [],
   "source": [
    "# Importing Selenium and all related modules\n",
    "from selenium import webdriver\n",
    "from selenium.webdriver.common.by import By\n",
    "from selenium.webdriver.chrome.options import Options\n",
    "\n",
    "#Importing the libraries to get the webdriver\n",
    "import requests\n",
    "import wget\n",
    "import zipfile\n",
    "import os\n",
    "\n",
    "# Importing other required libraries\n",
    "import time\n",
    "import pandas as pd\n",
    "from datetime import date, timedelta\n",
    "import random\n",
    "from datetime import date, timedelta\n"
   ]
  },
  {
   "cell_type": "markdown",
   "id": "bc385c65",
   "metadata": {},
   "source": [
    "# Functions"
   ]
  },
  {
   "cell_type": "code",
   "execution_count": 2,
   "id": "8ea152ad",
   "metadata": {},
   "outputs": [],
   "source": [
    "def date_to_calendar(x):\n",
    "    lst = [int(s) for s in x.split() if s.isdigit()]\n",
    "    if not lst:\n",
    "        if \"+\" in x:\n",
    "            return None\n",
    "        else: \n",
    "            return date.today()\n",
    "    else:\n",
    "        return date.today() - timedelta(days=int(lst[0]))"
   ]
  },
  {
   "cell_type": "markdown",
   "id": "ac0ea6f2",
   "metadata": {},
   "source": [
    "# Getting the webdriver"
   ]
  },
  {
   "cell_type": "markdown",
   "id": "298f5a31",
   "metadata": {},
   "source": [
    "To have always the latest version of the Chrome webdriver, we can directly check and download the latets version available. "
   ]
  },
  {
   "cell_type": "code",
   "execution_count": 3,
   "id": "b740eda2",
   "metadata": {},
   "outputs": [
    {
     "name": "stdout",
     "output_type": "stream",
     "text": [
      "100% [......................................................] 9221350 / 9221350"
     ]
    }
   ],
   "source": [
    "# get the latest chrome driver version number\n",
    "url = 'https://chromedriver.storage.googleapis.com/LATEST_RELEASE'\n",
    "response = requests.get(url)\n",
    "version_number = response.text\n",
    "\n",
    "# build the donwload url\n",
    "download_url = \"https://chromedriver.storage.googleapis.com/\" + version_number +\"/chromedriver_mac64.zip\"\n",
    "\n",
    "# download the zip file using the url built above\n",
    "latest_driver_zip = wget.download(download_url,'chromedriver.zip')\n",
    "\n",
    "# extract the zip file\n",
    "with zipfile.ZipFile(latest_driver_zip, 'r') as zip_ref:\n",
    "    zip_ref.extractall(\"../ChromeDriver_Path\") # you can specify the destination folder path here\n",
    "# delete the zip file downloaded above\n",
    "os.remove(latest_driver_zip)"
   ]
  },
  {
   "cell_type": "markdown",
   "id": "e023a8ea",
   "metadata": {},
   "source": [
    "# Creating the webdriver instance"
   ]
  },
  {
   "cell_type": "markdown",
   "id": "f684c366",
   "metadata": {},
   "source": [
    "The Chrome webdriver instance is generated."
   ]
  },
  {
   "cell_type": "code",
   "execution_count": 4,
   "id": "1085b751",
   "metadata": {},
   "outputs": [
    {
     "name": "stderr",
     "output_type": "stream",
     "text": [
      "/var/folders/5h/h364vcws335c872gj8pv3jvm0000gn/T/ipykernel_47603/2957471210.py:7: DeprecationWarning: executable_path has been deprecated, please pass in a Service object\n",
      "  driver = webdriver.Chrome(\"../ChromeDriver_Path/chromedriver\", chrome_options=options)\n",
      "/var/folders/5h/h364vcws335c872gj8pv3jvm0000gn/T/ipykernel_47603/2957471210.py:7: DeprecationWarning: use options instead of chrome_options\n",
      "  driver = webdriver.Chrome(\"../ChromeDriver_Path/chromedriver\", chrome_options=options)\n"
     ]
    }
   ],
   "source": [
    "# __________________Defining the Chrome Driver Instance\n",
    "# Creating a webdriver instance\n",
    "options = Options()\n",
    "\n",
    "# options.add_argument('--headless') -> You can activate this option if you want to watch the scraping process.\n",
    "options.add_argument('--disable-gpu')  # Last I checked this was necessary.\n",
    "driver = webdriver.Chrome(\"../ChromeDriver_Path/chromedriver\", chrome_options=options)\n",
    "\n",
    "# Defininf the worldwide URL where all countries and related links are contained.\n",
    "url = \"https://www.indeed.com/worldwide\"\n",
    "# Opening the url we have just defined in our browser\n",
    "driver.get(url)"
   ]
  },
  {
   "cell_type": "markdown",
   "id": "492ab13a",
   "metadata": {},
   "source": [
    "# Getting countries and URL list"
   ]
  },
  {
   "cell_type": "markdown",
   "id": "c09b3c56",
   "metadata": {},
   "source": [
    "A dictionary is generated with the countries' names and their corresponding Indeed link."
   ]
  },
  {
   "cell_type": "code",
   "execution_count": 5,
   "id": "597f945d",
   "metadata": {},
   "outputs": [],
   "source": [
    "# We get a list containing all jobs that we have found.\n",
    "countries_list = driver.find_element(By.ID,\"page\")\n",
    "countries = countries_list.find_elements(By.TAG_NAME,\"a\") # return a list\n",
    "country_link_dict = {ii.text: ii.get_attribute(\"href\") for ii in countries}"
   ]
  },
  {
   "cell_type": "markdown",
   "id": "4d5a7591",
   "metadata": {},
   "source": [
    "# Defining job and country/location"
   ]
  },
  {
   "cell_type": "code",
   "execution_count": 6,
   "id": "79aae0f5",
   "metadata": {},
   "outputs": [],
   "source": [
    "def url_string(string):\n",
    "        output = \"\";\n",
    "        for item in string.split(\" \"):\n",
    "            if item != string.split(\" \")[-1]:\n",
    "                output = output + item + \"+\"\n",
    "            else:\n",
    "                output = output + item\n",
    "        return output\n",
    "\n",
    "# Defining the job and the country\n",
    "job_name = \"Data Scientist\"\n",
    "country_name = \"United States\"\n",
    "\n",
    "# Getting the corresponding URL for our country\n",
    "url = country_link_dict[country_name]\n",
    "\n",
    "# Adding + in case that are requird\n",
    "job_name_url = url_string(job_name)\n",
    "country_name_url = url_string(country_name)\n",
    "\n",
    "# Defining the URL to find the job and the country\n",
    "url = url.split(\"/?hl\")[0] + \"/jobs?q={0}&l={1}\".format(job_name_url,country_name_url)\n",
    "\n",
    "# Opening the url we have just defined in our browser\n",
    "driver.get(url)"
   ]
  },
  {
   "cell_type": "markdown",
   "id": "598b452d",
   "metadata": {},
   "source": [
    "# Knowing how many jobs results are there"
   ]
  },
  {
   "cell_type": "code",
   "execution_count": 7,
   "id": "1ab62027",
   "metadata": {},
   "outputs": [],
   "source": [
    "#We find how many jobs are offered.\n",
    "jobs_num = driver.find_element(By.CLASS_NAME,\"jobsearch-JobCountAndSortPane-jobCount\").get_attribute(\"innerText\")\n",
    "jobs_num = jobs_num.replace(' jobs','')\n",
    "    \n",
    "if ',' in jobs_num and (jobs_num := jobs_num.replace(',', '')).isdigit():\n",
    "    jobs_num = int(jobs_num)"
   ]
  },
  {
   "cell_type": "markdown",
   "id": "e32070bf",
   "metadata": {},
   "source": [
    "# Browsing all jobs"
   ]
  },
  {
   "cell_type": "code",
   "execution_count": 8,
   "id": "27690f8f",
   "metadata": {
    "scrolled": false
   },
   "outputs": [
    {
     "ename": "NoSuchElementException",
     "evalue": "Message: no such element: Unable to locate element: {\"method\":\"xpath\",\"selector\":\"//*[@id=\"jobsearch-JapanPage\"]/div/div/div[5]/div[1]/nav/div[7]/a\"}\n  (Session info: chrome=112.0.5615.137)\nStacktrace:\n0   chromedriver                        0x0000000102edcae8 chromedriver + 4958952\n1   chromedriver                        0x0000000102ed47b3 chromedriver + 4925363\n2   chromedriver                        0x0000000102a961d6 chromedriver + 475606\n3   chromedriver                        0x0000000102ad9a20 chromedriver + 752160\n4   chromedriver                        0x0000000102ad9c81 chromedriver + 752769\n5   chromedriver                        0x0000000102b1df64 chromedriver + 1032036\n6   chromedriver                        0x0000000102affc3d chromedriver + 908349\n7   chromedriver                        0x0000000102b1b25b chromedriver + 1020507\n8   chromedriver                        0x0000000102aff9e3 chromedriver + 907747\n9   chromedriver                        0x0000000102ac9aef chromedriver + 686831\n10  chromedriver                        0x0000000102acb00e chromedriver + 692238\n11  chromedriver                        0x0000000102e989ad chromedriver + 4680109\n12  chromedriver                        0x0000000102e9dc12 chromedriver + 4701202\n13  chromedriver                        0x0000000102ea479f chromedriver + 4728735\n14  chromedriver                        0x0000000102e9eb7a chromedriver + 4705146\n15  chromedriver                        0x0000000102e7127e chromedriver + 4518526\n16  chromedriver                        0x0000000102ebe908 chromedriver + 4835592\n17  chromedriver                        0x0000000102ebea87 chromedriver + 4835975\n18  chromedriver                        0x0000000102ece00f chromedriver + 4898831\n19  libsystem_pthread.dylib             0x00007ff80dce9259 _pthread_start + 125\n20  libsystem_pthread.dylib             0x00007ff80dce4c7b thread_start + 15\n",
     "output_type": "error",
     "traceback": [
      "\u001b[0;31m---------------------------------------------------------------------------\u001b[0m",
      "\u001b[0;31mNoSuchElementException\u001b[0m                    Traceback (most recent call last)",
      "\u001b[0;32m/var/folders/5h/h364vcws335c872gj8pv3jvm0000gn/T/ipykernel_47603/1850278082.py\u001b[0m in \u001b[0;36m<module>\u001b[0;34m\u001b[0m\n\u001b[1;32m     67\u001b[0m \u001b[0;34m\u001b[0m\u001b[0m\n\u001b[1;32m     68\u001b[0m     \u001b[0;31m# We press the next button.\u001b[0m\u001b[0;34m\u001b[0m\u001b[0;34m\u001b[0m\u001b[0m\n\u001b[0;32m---> 69\u001b[0;31m     \u001b[0mdriver\u001b[0m\u001b[0;34m.\u001b[0m\u001b[0mfind_element\u001b[0m\u001b[0;34m(\u001b[0m\u001b[0mBy\u001b[0m\u001b[0;34m.\u001b[0m\u001b[0mXPATH\u001b[0m\u001b[0;34m,\u001b[0m\u001b[0mnext_button_xpath\u001b[0m\u001b[0;34m)\u001b[0m\u001b[0;34m.\u001b[0m\u001b[0mclick\u001b[0m\u001b[0;34m(\u001b[0m\u001b[0;34m)\u001b[0m\u001b[0;34m\u001b[0m\u001b[0;34m\u001b[0m\u001b[0m\n\u001b[0m\u001b[1;32m     70\u001b[0m \u001b[0;34m\u001b[0m\u001b[0m\n\u001b[1;32m     71\u001b[0m \u001b[0;34m\u001b[0m\u001b[0m\n",
      "\u001b[0;32m~/opt/anaconda3/lib/python3.9/site-packages/selenium/webdriver/remote/webdriver.py\u001b[0m in \u001b[0;36mfind_element\u001b[0;34m(self, by, value)\u001b[0m\n\u001b[1;32m   1249\u001b[0m             \u001b[0mvalue\u001b[0m \u001b[0;34m=\u001b[0m \u001b[0;34m'[name=\"%s\"]'\u001b[0m \u001b[0;34m%\u001b[0m \u001b[0mvalue\u001b[0m\u001b[0;34m\u001b[0m\u001b[0;34m\u001b[0m\u001b[0m\n\u001b[1;32m   1250\u001b[0m \u001b[0;34m\u001b[0m\u001b[0m\n\u001b[0;32m-> 1251\u001b[0;31m         return self.execute(Command.FIND_ELEMENT, {\n\u001b[0m\u001b[1;32m   1252\u001b[0m             \u001b[0;34m'using'\u001b[0m\u001b[0;34m:\u001b[0m \u001b[0mby\u001b[0m\u001b[0;34m,\u001b[0m\u001b[0;34m\u001b[0m\u001b[0;34m\u001b[0m\u001b[0m\n\u001b[1;32m   1253\u001b[0m             'value': value})['value']\n",
      "\u001b[0;32m~/opt/anaconda3/lib/python3.9/site-packages/selenium/webdriver/remote/webdriver.py\u001b[0m in \u001b[0;36mexecute\u001b[0;34m(self, driver_command, params)\u001b[0m\n\u001b[1;32m    428\u001b[0m         \u001b[0mresponse\u001b[0m \u001b[0;34m=\u001b[0m \u001b[0mself\u001b[0m\u001b[0;34m.\u001b[0m\u001b[0mcommand_executor\u001b[0m\u001b[0;34m.\u001b[0m\u001b[0mexecute\u001b[0m\u001b[0;34m(\u001b[0m\u001b[0mdriver_command\u001b[0m\u001b[0;34m,\u001b[0m \u001b[0mparams\u001b[0m\u001b[0;34m)\u001b[0m\u001b[0;34m\u001b[0m\u001b[0;34m\u001b[0m\u001b[0m\n\u001b[1;32m    429\u001b[0m         \u001b[0;32mif\u001b[0m \u001b[0mresponse\u001b[0m\u001b[0;34m:\u001b[0m\u001b[0;34m\u001b[0m\u001b[0;34m\u001b[0m\u001b[0m\n\u001b[0;32m--> 430\u001b[0;31m             \u001b[0mself\u001b[0m\u001b[0;34m.\u001b[0m\u001b[0merror_handler\u001b[0m\u001b[0;34m.\u001b[0m\u001b[0mcheck_response\u001b[0m\u001b[0;34m(\u001b[0m\u001b[0mresponse\u001b[0m\u001b[0;34m)\u001b[0m\u001b[0;34m\u001b[0m\u001b[0;34m\u001b[0m\u001b[0m\n\u001b[0m\u001b[1;32m    431\u001b[0m             response['value'] = self._unwrap_value(\n\u001b[1;32m    432\u001b[0m                 response.get('value', None))\n",
      "\u001b[0;32m~/opt/anaconda3/lib/python3.9/site-packages/selenium/webdriver/remote/errorhandler.py\u001b[0m in \u001b[0;36mcheck_response\u001b[0;34m(self, response)\u001b[0m\n\u001b[1;32m    245\u001b[0m                 \u001b[0malert_text\u001b[0m \u001b[0;34m=\u001b[0m \u001b[0mvalue\u001b[0m\u001b[0;34m[\u001b[0m\u001b[0;34m'alert'\u001b[0m\u001b[0;34m]\u001b[0m\u001b[0;34m.\u001b[0m\u001b[0mget\u001b[0m\u001b[0;34m(\u001b[0m\u001b[0;34m'text'\u001b[0m\u001b[0;34m)\u001b[0m\u001b[0;34m\u001b[0m\u001b[0;34m\u001b[0m\u001b[0m\n\u001b[1;32m    246\u001b[0m             \u001b[0;32mraise\u001b[0m \u001b[0mexception_class\u001b[0m\u001b[0;34m(\u001b[0m\u001b[0mmessage\u001b[0m\u001b[0;34m,\u001b[0m \u001b[0mscreen\u001b[0m\u001b[0;34m,\u001b[0m \u001b[0mstacktrace\u001b[0m\u001b[0;34m,\u001b[0m \u001b[0malert_text\u001b[0m\u001b[0;34m)\u001b[0m  \u001b[0;31m# type: ignore[call-arg]  # mypy is not smart enough here\u001b[0m\u001b[0;34m\u001b[0m\u001b[0;34m\u001b[0m\u001b[0m\n\u001b[0;32m--> 247\u001b[0;31m         \u001b[0;32mraise\u001b[0m \u001b[0mexception_class\u001b[0m\u001b[0;34m(\u001b[0m\u001b[0mmessage\u001b[0m\u001b[0;34m,\u001b[0m \u001b[0mscreen\u001b[0m\u001b[0;34m,\u001b[0m \u001b[0mstacktrace\u001b[0m\u001b[0;34m)\u001b[0m\u001b[0;34m\u001b[0m\u001b[0;34m\u001b[0m\u001b[0m\n\u001b[0m\u001b[1;32m    248\u001b[0m \u001b[0;34m\u001b[0m\u001b[0m\n\u001b[1;32m    249\u001b[0m     \u001b[0;32mdef\u001b[0m \u001b[0m_value_or_default\u001b[0m\u001b[0;34m(\u001b[0m\u001b[0mself\u001b[0m\u001b[0;34m,\u001b[0m \u001b[0mobj\u001b[0m\u001b[0;34m:\u001b[0m \u001b[0mMapping\u001b[0m\u001b[0;34m[\u001b[0m\u001b[0m_KT\u001b[0m\u001b[0;34m,\u001b[0m \u001b[0m_VT\u001b[0m\u001b[0;34m]\u001b[0m\u001b[0;34m,\u001b[0m \u001b[0mkey\u001b[0m\u001b[0;34m:\u001b[0m \u001b[0m_KT\u001b[0m\u001b[0;34m,\u001b[0m \u001b[0mdefault\u001b[0m\u001b[0;34m:\u001b[0m \u001b[0m_VT\u001b[0m\u001b[0;34m)\u001b[0m \u001b[0;34m->\u001b[0m \u001b[0m_VT\u001b[0m\u001b[0;34m:\u001b[0m\u001b[0;34m\u001b[0m\u001b[0;34m\u001b[0m\u001b[0m\n",
      "\u001b[0;31mNoSuchElementException\u001b[0m: Message: no such element: Unable to locate element: {\"method\":\"xpath\",\"selector\":\"//*[@id=\"jobsearch-JapanPage\"]/div/div/div[5]/div[1]/nav/div[7]/a\"}\n  (Session info: chrome=112.0.5615.137)\nStacktrace:\n0   chromedriver                        0x0000000102edcae8 chromedriver + 4958952\n1   chromedriver                        0x0000000102ed47b3 chromedriver + 4925363\n2   chromedriver                        0x0000000102a961d6 chromedriver + 475606\n3   chromedriver                        0x0000000102ad9a20 chromedriver + 752160\n4   chromedriver                        0x0000000102ad9c81 chromedriver + 752769\n5   chromedriver                        0x0000000102b1df64 chromedriver + 1032036\n6   chromedriver                        0x0000000102affc3d chromedriver + 908349\n7   chromedriver                        0x0000000102b1b25b chromedriver + 1020507\n8   chromedriver                        0x0000000102aff9e3 chromedriver + 907747\n9   chromedriver                        0x0000000102ac9aef chromedriver + 686831\n10  chromedriver                        0x0000000102acb00e chromedriver + 692238\n11  chromedriver                        0x0000000102e989ad chromedriver + 4680109\n12  chromedriver                        0x0000000102e9dc12 chromedriver + 4701202\n13  chromedriver                        0x0000000102ea479f chromedriver + 4728735\n14  chromedriver                        0x0000000102e9eb7a chromedriver + 4705146\n15  chromedriver                        0x0000000102e7127e chromedriver + 4518526\n16  chromedriver                        0x0000000102ebe908 chromedriver + 4835592\n17  chromedriver                        0x0000000102ebea87 chromedriver + 4835975\n18  chromedriver                        0x0000000102ece00f chromedriver + 4898831\n19  libsystem_pthread.dylib             0x00007ff80dce9259 _pthread_start + 125\n20  libsystem_pthread.dylib             0x00007ff80dce4c7b thread_start + 15\n"
     ]
    }
   ],
   "source": [
    "# Void lists to store the data.\n",
    "job_title_list = [];\n",
    "job_company_list = [];\n",
    "job_location_list = [];\n",
    "job_salary_list = [];\n",
    "job_type_list = [];\n",
    "job_date_list = [];\n",
    "job_description_list = [];\n",
    "job_link_list = [];\n",
    "job_id_list = [];\n",
    "\n",
    "# The next button is defined.\n",
    "next_button_xpath = '//*[@id=\"jobsearch-JapanPage\"]/div/div/div[5]/div[1]/nav/div[6]/a'\n",
    "\n",
    "\n",
    "num_jobs_scraped = 0\n",
    "\n",
    "#while num_jobs_scraped < jobs_num:\n",
    "while num_jobs_scraped < 1000:\n",
    "    \n",
    "    # The job browing is started\n",
    "    job_page = driver.find_element(By.ID,\"mosaic-jobResults\")\n",
    "    jobs = job_page.find_elements(By.CLASS_NAME,\"job_seen_beacon\") # return a list\n",
    "    num_jobs_scraped = num_jobs_scraped + len(jobs)\n",
    "    \n",
    "    \n",
    "    for ii in jobs: \n",
    "        # Finding the job title and its related elements\n",
    "        job_title = ii.find_element(By.CLASS_NAME,\"jobTitle\")\n",
    "        job_title_list.append(job_title.text)\n",
    "        job_link_list.append(job_title.find_element(By.CSS_SELECTOR,\"a\").get_attribute(\"href\"))\n",
    "        job_id_list.append(job_title.find_element(By.CSS_SELECTOR,\"a\").get_attribute(\"id\"))\n",
    "        \n",
    "        # Finding the company name and location\n",
    "        job_company_list.append(ii.find_element(By.CLASS_NAME,\"companyName\").text)\n",
    "        job_location_list.append(ii.find_element(By.CLASS_NAME,\"companyLocation\").text)\n",
    "        # Finding the posting date\n",
    "        job_date_list.append(ii.find_element(By.CLASS_NAME,\"date\").text)\n",
    "        \n",
    "        # Trying to find the salary element. If it is not found, a None will be returned. \n",
    "        try: \n",
    "            job_salary_list.append(ii.find_element(By.CLASS_NAME,\"salary-snippet-container\").text)\n",
    "            \n",
    "        except: \n",
    "            try: \n",
    "                job_salary_list.append(ii.find_element(By.CLASS_NAME,\"estimated-salary\").text)\n",
    "            except: \n",
    "                job_salary_list.append(None)\n",
    "\n",
    "        # We wait a random amount of seconds to imitate a human behavior. \n",
    "        time.sleep(random.random())\n",
    "        \n",
    "        #Click the job element to get the description\n",
    "        job_title.click()\n",
    "        \n",
    "        #Wait for a bit for the website to charge (again with a random behavior)\n",
    "        time.sleep(1+random.random())\n",
    "        \n",
    "        #Find the job description. If the element is not found, a None will be returned.\n",
    "        try: \n",
    "            job_description_list.append(driver.find_element(By.ID,\"jobDescriptionText\").text)\n",
    "            \n",
    "        except: \n",
    "            job_description_list.append(None)\n",
    "    \n",
    "    time.sleep(1+random.random())\n",
    "    \n",
    "    # We press the next button. \n",
    "    driver.find_element(By.XPATH,next_button_xpath).click()\n",
    "    \n",
    "    \n",
    "    # The button element is updated to the 7th button instead of the 6th.\n",
    "    next_button_xpath = '//*[@id=\"jobsearch-JapanPage\"]/div/div/div[5]/div[1]/nav/div[7]/a'"
   ]
  },
  {
   "cell_type": "markdown",
   "id": "2107d26b",
   "metadata": {},
   "source": [
    "# Creating a DataFrame"
   ]
  },
  {
   "cell_type": "markdown",
   "id": "2ff84471",
   "metadata": {},
   "source": [
    "A final DataFrame containing all the scraped data is generated. "
   ]
  },
  {
   "cell_type": "code",
   "execution_count": null,
   "id": "556ce9dc",
   "metadata": {},
   "outputs": [],
   "source": [
    "country_list = [country_name]*len(job_title_list)\n",
    "job_name_list = [job_name]*len(job_title_list)\n",
    "scraped_date_list = [date.today()]*len(job_title_list)\n",
    "\n",
    "indeed_job_data = pd.DataFrame({\n",
    "    'job_id': job_id_list,\n",
    "    'scraped_date': scraped_date_list,\n",
    "    'country': country_list,\n",
    "    'job_name': job_name_list,\n",
    "    'job_post_date': job_date_list,\n",
    "    'job_company': job_company_list,\n",
    "    'job_title': job_title_list,\n",
    "    'job_location': job_location_list,\n",
    "    'job_description': job_description_list,\n",
    "    'job_link': job_link_list,\n",
    "    'job_salary': job_salary_list,\n",
    "    #'job_type': job_type_list,\n",
    "    \n",
    "})\n",
    "\n",
    "indeed_job_data[\"calendar_job_post_date\"] = indeed_job_data.apply(lambda x: date_to_calendar(x[\"job_post_date\"]), axis=1)\n",
    "indeed_job_data.to_csv(\"{0}_{1}_\".format(country_name,job_name)+\"_ddbb_2.csv\")"
   ]
  }
 ],
 "metadata": {
  "kernelspec": {
   "display_name": "Python 3 (ipykernel)",
   "language": "python",
   "name": "python3"
  },
  "language_info": {
   "codemirror_mode": {
    "name": "ipython",
    "version": 3
   },
   "file_extension": ".py",
   "mimetype": "text/x-python",
   "name": "python",
   "nbconvert_exporter": "python",
   "pygments_lexer": "ipython3",
   "version": "3.9.7"
  },
  "toc": {
   "base_numbering": 1,
   "nav_menu": {},
   "number_sections": true,
   "sideBar": true,
   "skip_h1_title": false,
   "title_cell": "Table of Contents",
   "title_sidebar": "Contents",
   "toc_cell": false,
   "toc_position": {},
   "toc_section_display": true,
   "toc_window_display": false
  }
 },
 "nbformat": 4,
 "nbformat_minor": 5
}
